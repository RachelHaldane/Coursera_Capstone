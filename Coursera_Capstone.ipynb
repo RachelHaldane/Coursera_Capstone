{
    "cells": [
        {
            "cell_type": "markdown",
            "metadata": {
                "collapsed": true
            },
            "source": "## Coursera Capstone - Week 4 & 5 - Battle of the Neighbourhoods"
        },
        {
            "cell_type": "code",
            "execution_count": 3,
            "metadata": {},
            "outputs": [
                {
                    "name": "stdout",
                    "output_type": "stream",
                    "text": "Hello Capstone Project Course!\n"
                }
            ],
            "source": "print('Hello Capstone Project Course!')"
        },
        {
            "cell_type": "code",
            "execution_count": 3,
            "metadata": {},
            "outputs": [
                {
                    "name": "stdout",
                    "output_type": "stream",
                    "text": "/opt/conda/envs/Python-3.7-main/lib/python3.7/site-packages/secretstorage/dhcrypto.py:16: CryptographyDeprecationWarning: int_from_bytes is deprecated, use int.from_bytes instead\n  from cryptography.utils import int_from_bytes\n/opt/conda/envs/Python-3.7-main/lib/python3.7/site-packages/secretstorage/util.py:25: CryptographyDeprecationWarning: int_from_bytes is deprecated, use int.from_bytes instead\n  from cryptography.utils import int_from_bytes\nRequirement already satisfied: geopy in /opt/conda/envs/Python-3.7-main/lib/python3.7/site-packages (2.0.0)\nRequirement already satisfied: geographiclib<2,>=1.49 in /opt/conda/envs/Python-3.7-main/lib/python3.7/site-packages (from geopy) (1.50)\n/opt/conda/envs/Python-3.7-main/lib/python3.7/site-packages/secretstorage/dhcrypto.py:16: CryptographyDeprecationWarning: int_from_bytes is deprecated, use int.from_bytes instead\n  from cryptography.utils import int_from_bytes\n/opt/conda/envs/Python-3.7-main/lib/python3.7/site-packages/secretstorage/util.py:25: CryptographyDeprecationWarning: int_from_bytes is deprecated, use int.from_bytes instead\n  from cryptography.utils import int_from_bytes\nCollecting folium==0.5.0\n  Downloading folium-0.5.0.tar.gz (79 kB)\n\u001b[K     |\u2588\u2588\u2588\u2588\u2588\u2588\u2588\u2588\u2588\u2588\u2588\u2588\u2588\u2588\u2588\u2588\u2588\u2588\u2588\u2588\u2588\u2588\u2588\u2588\u2588\u2588\u2588\u2588\u2588\u2588\u2588\u2588| 79 kB 12.7 MB/s eta 0:00:01\n\u001b[?25hCollecting branca\n  Downloading branca-0.4.2-py3-none-any.whl (24 kB)\nRequirement already satisfied: jinja2 in /opt/conda/envs/Python-3.7-main/lib/python3.7/site-packages (from folium==0.5.0) (2.11.2)\nRequirement already satisfied: requests in /opt/conda/envs/Python-3.7-main/lib/python3.7/site-packages (from folium==0.5.0) (2.24.0)\nRequirement already satisfied: six in /opt/conda/envs/Python-3.7-main/lib/python3.7/site-packages (from folium==0.5.0) (1.15.0)\nRequirement already satisfied: MarkupSafe>=0.23 in /opt/conda/envs/Python-3.7-main/lib/python3.7/site-packages (from jinja2->folium==0.5.0) (1.1.1)\nRequirement already satisfied: chardet<4,>=3.0.2 in /opt/conda/envs/Python-3.7-main/lib/python3.7/site-packages (from requests->folium==0.5.0) (3.0.4)\nRequirement already satisfied: urllib3!=1.25.0,!=1.25.1,<1.26,>=1.21.1 in /opt/conda/envs/Python-3.7-main/lib/python3.7/site-packages (from requests->folium==0.5.0) (1.25.9)\nRequirement already satisfied: idna<3,>=2.5 in /opt/conda/envs/Python-3.7-main/lib/python3.7/site-packages (from requests->folium==0.5.0) (2.9)\nRequirement already satisfied: certifi>=2017.4.17 in /opt/conda/envs/Python-3.7-main/lib/python3.7/site-packages (from requests->folium==0.5.0) (2020.12.5)\nBuilding wheels for collected packages: folium\n  Building wheel for folium (setup.py) ... \u001b[?25ldone\n\u001b[?25h  Created wheel for folium: filename=folium-0.5.0-py3-none-any.whl size=76240 sha256=82a71963759b0878447cc090122d4a9b67fe1e62626f1a6bd6e22aa2ab64ccb2\n  Stored in directory: /tmp/wsuser/.cache/pip/wheels/b2/2f/2c/109e446b990d663ea5ce9b078b5e7c1a9c45cca91f377080f8\nSuccessfully built folium\nInstalling collected packages: branca, folium\nSuccessfully installed branca-0.4.2 folium-0.5.0\n/opt/conda/envs/Python-3.7-main/lib/python3.7/site-packages/secretstorage/dhcrypto.py:16: CryptographyDeprecationWarning: int_from_bytes is deprecated, use int.from_bytes instead\n  from cryptography.utils import int_from_bytes\n/opt/conda/envs/Python-3.7-main/lib/python3.7/site-packages/secretstorage/util.py:25: CryptographyDeprecationWarning: int_from_bytes is deprecated, use int.from_bytes instead\n  from cryptography.utils import int_from_bytes\nCollecting bs4\n  Downloading bs4-0.0.1.tar.gz (1.1 kB)\nRequirement already satisfied: beautifulsoup4 in /opt/conda/envs/Python-3.7-main/lib/python3.7/site-packages (from bs4) (4.9.1)\nRequirement already satisfied: soupsieve>1.2 in /opt/conda/envs/Python-3.7-main/lib/python3.7/site-packages (from beautifulsoup4->bs4) (2.0.1)\nBuilding wheels for collected packages: bs4\n  Building wheel for bs4 (setup.py) ... \u001b[?25ldone\n\u001b[?25h  Created wheel for bs4: filename=bs4-0.0.1-py3-none-any.whl size=1272 sha256=c87f0bed319f7d73a446ad019cfd17cd7c9806acae61bfd428de352ecdf85a50\n  Stored in directory: /tmp/wsuser/.cache/pip/wheels/0a/9e/ba/20e5bbc1afef3a491f0b3bb74d508f99403aabe76eda2167ca\nSuccessfully built bs4\nInstalling collected packages: bs4\nSuccessfully installed bs4-0.0.1\n/opt/conda/envs/Python-3.7-main/lib/python3.7/site-packages/secretstorage/dhcrypto.py:16: CryptographyDeprecationWarning: int_from_bytes is deprecated, use int.from_bytes instead\n  from cryptography.utils import int_from_bytes\n/opt/conda/envs/Python-3.7-main/lib/python3.7/site-packages/secretstorage/util.py:25: CryptographyDeprecationWarning: int_from_bytes is deprecated, use int.from_bytes instead\n  from cryptography.utils import int_from_bytes\nRequirement already satisfied: lxml in /opt/conda/envs/Python-3.7-main/lib/python3.7/site-packages (4.5.1)\n/opt/conda/envs/Python-3.7-main/lib/python3.7/site-packages/secretstorage/dhcrypto.py:16: CryptographyDeprecationWarning: int_from_bytes is deprecated, use int.from_bytes instead\n  from cryptography.utils import int_from_bytes\n/opt/conda/envs/Python-3.7-main/lib/python3.7/site-packages/secretstorage/util.py:25: CryptographyDeprecationWarning: int_from_bytes is deprecated, use int.from_bytes instead\n  from cryptography.utils import int_from_bytes\nRequirement already satisfied: html5lib in /opt/conda/envs/Python-3.7-main/lib/python3.7/site-packages (1.1)\nRequirement already satisfied: six>=1.9 in /opt/conda/envs/Python-3.7-main/lib/python3.7/site-packages (from html5lib) (1.15.0)\nRequirement already satisfied: webencodings in /opt/conda/envs/Python-3.7-main/lib/python3.7/site-packages (from html5lib) (0.5.1)\n"
                }
            ],
            "source": "import pandas as pd\nimport numpy as np\nimport requests \nfrom pandas.io.json import json_normalize # tranform JSON file into a pandas dataframe\n\n!pip install geopy\nfrom geopy.geocoders import Nominatim # module to convert an address into latitude and longitude values\n\n! pip install folium==0.5.0\nimport folium \n\nimport matplotlib.pyplot as plt\nimport pylab as pl\n%matplotlib inline\n\n!pip install bs4\n!pip install lxml\n!pip install html5lib"
        },
        {
            "cell_type": "markdown",
            "metadata": {},
            "source": "# Introduction/Business Problem"
        },
        {
            "cell_type": "markdown",
            "metadata": {},
            "source": "Company ABC is looking to open it's first US office, in a major metropoliatain area.\n\nThe company needs a highly skilled and happy workforce. \n\nThe company's workforce love pizza places, gyms, coffee shops and wine bars. This frequency of these locations will be the proxy for a happy workforce.\n\nWe will leverage the foursquare API to rank these items by city. \n\nWe will build a regression model to help the company decide where to open the US office. There should be a link between the number of pizza places, gyms, coffee shops and wine bars (the independent variables), and per captia income (the dependent variable) which we will use as a proxy for a highly skilled workforce.\n\nWe will test multiple models to see which has the strongest link with capita income - pizza places, gyms, coffee shops and wine bars?"
        },
        {
            "cell_type": "markdown",
            "metadata": {},
            "source": "# Data"
        },
        {
            "cell_type": "markdown",
            "metadata": {},
            "source": "We wil leverage the foursquare API for the top 20 cities by per capita income.\n\nIn order to do this we will pull the city lat long from from geopy.geocoders Nominatim module, to convert an address into latitude and longitude values (see section 3 data)\n\nWe will pull back data on the number of art galleries, gyms, coffee shops and wine bars by city."
        },
        {
            "cell_type": "markdown",
            "metadata": {},
            "source": "## 1. Average Income by Cities (top 10)"
        },
        {
            "cell_type": "markdown",
            "metadata": {},
            "source": "Average Per Capita income by US City\n\nhttps://en.wikipedia.org/wiki/List_of_United_States_metropolitan_areas_by_per_capita_income\n\nSource: US 2010 Census"
        },
        {
            "cell_type": "markdown",
            "metadata": {},
            "source": "### 1.1 Example data"
        },
        {
            "cell_type": "code",
            "execution_count": 52,
            "metadata": {},
            "outputs": [
                {
                    "data": {
                        "text/html": "<div>\n<style scoped>\n    .dataframe tbody tr th:only-of-type {\n        vertical-align: middle;\n    }\n\n    .dataframe tbody tr th {\n        vertical-align: top;\n    }\n\n    .dataframe thead th {\n        text-align: right;\n    }\n</style>\n<table border=\"1\" class=\"dataframe\">\n  <thead>\n    <tr style=\"text-align: right;\">\n      <th></th>\n      <th>Rank</th>\n      <th>Metropolitan statistical area</th>\n      <th>Population</th>\n      <th>Per capitaincome</th>\n    </tr>\n  </thead>\n  <tbody>\n    <tr>\n      <th>0</th>\n      <td>1</td>\n      <td>Washington-Arlington-Alexandria, D.C-Virginia-...</td>\n      <td>5949178</td>\n      <td>$47,411</td>\n    </tr>\n    <tr>\n      <th>1</th>\n      <td>2</td>\n      <td>San Jose-Santa Clara-Sunnyvale, California MSA</td>\n      <td>1918944</td>\n      <td>$40,392</td>\n    </tr>\n    <tr>\n      <th>2</th>\n      <td>3</td>\n      <td>Seattle-Tacoma-Bellevue, Washington MSA</td>\n      <td>3611644</td>\n      <td>$39,322</td>\n    </tr>\n    <tr>\n      <th>3</th>\n      <td>4</td>\n      <td>San Francisco-Oakland-Hayward, California MSA</td>\n      <td>4122177</td>\n      <td>$38,355</td>\n    </tr>\n    <tr>\n      <th>4</th>\n      <td>5</td>\n      <td>Boston\u2013Worcester\u2013Lawrence, Massachusetts\u2013New H...</td>\n      <td>5819100</td>\n      <td>$37,311</td>\n    </tr>\n    <tr>\n      <th>5</th>\n      <td>6</td>\n      <td>Honolulu, Hawaii MSA</td>\n      <td>921000</td>\n      <td>$36,339</td>\n    </tr>\n    <tr>\n      <th>6</th>\n      <td>7</td>\n      <td>Minneapolis-St. Paul-Bloomington, Minnesota MSA</td>\n      <td>3478415</td>\n      <td>$35,388</td>\n    </tr>\n    <tr>\n      <th>7</th>\n      <td>8</td>\n      <td>Hartford, Connecticut MSA</td>\n      <td>1183110</td>\n      <td>$34,310</td>\n    </tr>\n    <tr>\n      <th>8</th>\n      <td>9</td>\n      <td>Denver-Aurora-Lakewood, Colorado MSA</td>\n      <td>2871068</td>\n      <td>$32,399</td>\n    </tr>\n    <tr>\n      <th>9</th>\n      <td>10</td>\n      <td>Portland-Vancouver-Hillsboro, Oregon MSA</td>\n      <td>2345318</td>\n      <td>$31,377</td>\n    </tr>\n  </tbody>\n</table>\n</div>",
                        "text/plain": "   Rank                      Metropolitan statistical area  Population  \\\n0     1  Washington-Arlington-Alexandria, D.C-Virginia-...     5949178   \n1     2     San Jose-Santa Clara-Sunnyvale, California MSA     1918944   \n2     3            Seattle-Tacoma-Bellevue, Washington MSA     3611644   \n3     4      San Francisco-Oakland-Hayward, California MSA     4122177   \n4     5  Boston\u2013Worcester\u2013Lawrence, Massachusetts\u2013New H...     5819100   \n5     6                               Honolulu, Hawaii MSA      921000   \n6     7    Minneapolis-St. Paul-Bloomington, Minnesota MSA     3478415   \n7     8                          Hartford, Connecticut MSA     1183110   \n8     9               Denver-Aurora-Lakewood, Colorado MSA     2871068   \n9    10           Portland-Vancouver-Hillsboro, Oregon MSA     2345318   \n\n  Per capitaincome  \n0          $47,411  \n1          $40,392  \n2          $39,322  \n3          $38,355  \n4          $37,311  \n5          $36,339  \n6          $35,388  \n7          $34,310  \n8          $32,399  \n9          $31,377  "
                    },
                    "execution_count": 52,
                    "metadata": {},
                    "output_type": "execute_result"
                }
            ],
            "source": "url2= 'https://en.wikipedia.org/wiki/List_of_United_States_metropolitan_areas_by_per_capita_income'\nhtml_content = requests.get(url2).text\n\ndfs = pd.read_html(html_content)\n\ndf = dfs[2]\ndf = df.head(10)\ndf"
        },
        {
            "cell_type": "code",
            "execution_count": 53,
            "metadata": {},
            "outputs": [
                {
                    "data": {
                        "text/html": "<div>\n<style scoped>\n    .dataframe tbody tr th:only-of-type {\n        vertical-align: middle;\n    }\n\n    .dataframe tbody tr th {\n        vertical-align: top;\n    }\n\n    .dataframe thead th {\n        text-align: right;\n    }\n</style>\n<table border=\"1\" class=\"dataframe\">\n  <thead>\n    <tr style=\"text-align: right;\">\n      <th></th>\n      <th>City</th>\n      <th>IncomeCapita</th>\n    </tr>\n  </thead>\n  <tbody>\n    <tr>\n      <th>0</th>\n      <td>Washington, DC</td>\n      <td>47411</td>\n    </tr>\n    <tr>\n      <th>1</th>\n      <td>San Jose, CA</td>\n      <td>40392</td>\n    </tr>\n    <tr>\n      <th>2</th>\n      <td>Seattle, WA</td>\n      <td>39322</td>\n    </tr>\n    <tr>\n      <th>3</th>\n      <td>San Francisco, CA</td>\n      <td>38355</td>\n    </tr>\n    <tr>\n      <th>4</th>\n      <td>Boston, MA</td>\n      <td>37311</td>\n    </tr>\n    <tr>\n      <th>5</th>\n      <td>Honolulu, HI</td>\n      <td>36339</td>\n    </tr>\n    <tr>\n      <th>6</th>\n      <td>Minneapolis, Minnesota</td>\n      <td>35388</td>\n    </tr>\n    <tr>\n      <th>7</th>\n      <td>Hartford, CT</td>\n      <td>34310</td>\n    </tr>\n    <tr>\n      <th>8</th>\n      <td>Denver, CO</td>\n      <td>32399</td>\n    </tr>\n    <tr>\n      <th>9</th>\n      <td>Portland, OR</td>\n      <td>31377</td>\n    </tr>\n  </tbody>\n</table>\n</div>",
                        "text/plain": "                     City  IncomeCapita\n0          Washington, DC         47411\n1            San Jose, CA         40392\n2             Seattle, WA         39322\n3       San Francisco, CA         38355\n4              Boston, MA         37311\n5            Honolulu, HI         36339\n6  Minneapolis, Minnesota         35388\n7            Hartford, CT         34310\n8              Denver, CO         32399\n9            Portland, OR         31377"
                    },
                    "execution_count": 53,
                    "metadata": {},
                    "output_type": "execute_result"
                }
            ],
            "source": "data = [['Washington, DC', 47411], ['San Jose, CA', 40392], ['Seattle, WA', 39322], ['San Francisco, CA', 38355], ['Boston, MA', 37311], ['Honolulu, HI', 36339], ['Minneapolis, Minnesota', 35388], ['Hartford, CT', 34310], ['Denver, CO', 32399], ['Portland, OR', 31377]]\n\ndf = pd.DataFrame(data, columns = ['City', 'IncomeCapita'])\n\ndf"
        },
        {
            "cell_type": "markdown",
            "metadata": {},
            "source": "## 2. Lat Long data"
        },
        {
            "cell_type": "markdown",
            "metadata": {},
            "source": "We will use geopy.geocoders Nominatim module, to convert each city into latitude and longitude values"
        },
        {
            "cell_type": "markdown",
            "metadata": {},
            "source": "### 2.1 Example data"
        },
        {
            "cell_type": "code",
            "execution_count": 54,
            "metadata": {},
            "outputs": [
                {
                    "name": "stdout",
                    "output_type": "stream",
                    "text": "The geograpical coordinate of Washington, DC are 38.8949924, -77.0365581.\n"
                }
            ],
            "source": "address = 'Washington, DC'\n\ngeolocator = Nominatim(user_agent=\"ny_explorer\")\nlocation = geolocator.geocode(address)\nlatitude = location.latitude\nlongitude = location.longitude\nprint('The geograpical coordinate of Washington, DC are {}, {}.'.format(latitude, longitude))"
        },
        {
            "cell_type": "markdown",
            "metadata": {},
            "source": "## 3. Foursquare location data"
        },
        {
            "cell_type": "markdown",
            "metadata": {},
            "source": "### 3.1 Example data"
        },
        {
            "cell_type": "code",
            "execution_count": 7,
            "metadata": {},
            "outputs": [
                {
                    "name": "stdout",
                    "output_type": "stream",
                    "text": "Your credentails:\nCLIENT_ID: YV4QTJAQ3F1OGZG2AFPTE5SEPY02PS3CLHHK35VXRDDQE3WZ\nCLIENT_SECRET:JSWHMGPW210QWZQSYEBQEDLZK3OS2XXZQ0KA22O4AYBNLXI4\n"
                }
            ],
            "source": "CLIENT_ID = 'YV4QTJAQ3F1OGZG2AFPTE5SEPY02PS3CLHHK35VXRDDQE3WZ' # your Foursquare ID\nCLIENT_SECRET = 'JSWHMGPW210QWZQSYEBQEDLZK3OS2XXZQ0KA22O4AYBNLXI4' # your Foursquare Secret\nVERSION = '20180605' # Foursquare API version\nLIMIT = 100 # A default Foursquare API limit value\n\nprint('Your credentails:')\nprint('CLIENT_ID: ' + CLIENT_ID)\nprint('CLIENT_SECRET:' + CLIENT_SECRET)"
        },
        {
            "cell_type": "markdown",
            "metadata": {},
            "source": "Prepare the URL to pass to the API:"
        },
        {
            "cell_type": "code",
            "execution_count": 55,
            "metadata": {},
            "outputs": [
                {
                    "data": {
                        "text/plain": "'https://api.foursquare.com/v2/venues/explore?client_id=YV4QTJAQ3F1OGZG2AFPTE5SEPY02PS3CLHHK35VXRDDQE3WZ&client_secret=JSWHMGPW210QWZQSYEBQEDLZK3OS2XXZQ0KA22O4AYBNLXI4&ll=38.8949924,-77.0365581&v=20180605&radius=10000&limit=100'"
                    },
                    "execution_count": 55,
                    "metadata": {},
                    "output_type": "execute_result"
                }
            ],
            "source": "radius = 10000\nurl = 'https://api.foursquare.com/v2/venues/explore?client_id={}&client_secret={}&ll={},{}&v={}&radius={}&limit={}'.format(CLIENT_ID, CLIENT_SECRET, latitude, longitude, VERSION, radius, LIMIT)\nurl"
        },
        {
            "cell_type": "markdown",
            "metadata": {},
            "source": "Pass the get request for the json results file"
        },
        {
            "cell_type": "code",
            "execution_count": 130,
            "metadata": {},
            "outputs": [],
            "source": "results = requests.get(url).json()\n#results"
        },
        {
            "cell_type": "markdown",
            "metadata": {},
            "source": "### Extract the category of the venue"
        },
        {
            "cell_type": "code",
            "execution_count": 57,
            "metadata": {},
            "outputs": [],
            "source": "# function that extracts the category of the venue\ndef get_category_type(row):\n    try:\n        categories_list = row['categories']\n    except:\n        categories_list = row['venue.categories']\n        \n    if len(categories_list) == 0:\n        return None\n    else:\n        return categories_list[0]['name']"
        },
        {
            "cell_type": "markdown",
            "metadata": {},
            "source": "### Clean and collate json data"
        },
        {
            "cell_type": "code",
            "execution_count": 58,
            "metadata": {},
            "outputs": [
                {
                    "name": "stderr",
                    "output_type": "stream",
                    "text": "/opt/conda/envs/Python-3.7-main/lib/python3.7/site-packages/ipykernel/__main__.py:3: FutureWarning: pandas.io.json.json_normalize is deprecated, use pandas.json_normalize instead\n  app.launch_new_instance()\n"
                },
                {
                    "data": {
                        "text/html": "<div>\n<style scoped>\n    .dataframe tbody tr th:only-of-type {\n        vertical-align: middle;\n    }\n\n    .dataframe tbody tr th {\n        vertical-align: top;\n    }\n\n    .dataframe thead th {\n        text-align: right;\n    }\n</style>\n<table border=\"1\" class=\"dataframe\">\n  <thead>\n    <tr style=\"text-align: right;\">\n      <th></th>\n      <th>categories</th>\n      <th>lat</th>\n      <th>lng</th>\n    </tr>\n  </thead>\n  <tbody>\n    <tr>\n      <th>0</th>\n      <td>History Museum</td>\n      <td>38.891171</td>\n      <td>-77.032818</td>\n    </tr>\n    <tr>\n      <th>1</th>\n      <td>Hotel</td>\n      <td>38.897215</td>\n      <td>-77.032541</td>\n    </tr>\n    <tr>\n      <th>2</th>\n      <td>Hotel</td>\n      <td>38.900510</td>\n      <td>-77.036885</td>\n    </tr>\n    <tr>\n      <th>3</th>\n      <td>Monument / Landmark</td>\n      <td>38.889377</td>\n      <td>-77.040516</td>\n    </tr>\n    <tr>\n      <th>4</th>\n      <td>American Restaurant</td>\n      <td>38.897954</td>\n      <td>-77.033270</td>\n    </tr>\n    <tr>\n      <th>5</th>\n      <td>Coffee Shop</td>\n      <td>38.898073</td>\n      <td>-77.031991</td>\n    </tr>\n    <tr>\n      <th>6</th>\n      <td>History Museum</td>\n      <td>38.890874</td>\n      <td>-77.032535</td>\n    </tr>\n    <tr>\n      <th>7</th>\n      <td>History Museum</td>\n      <td>38.891213</td>\n      <td>-77.030030</td>\n    </tr>\n    <tr>\n      <th>8</th>\n      <td>Seafood Restaurant</td>\n      <td>38.899984</td>\n      <td>-77.033939</td>\n    </tr>\n    <tr>\n      <th>9</th>\n      <td>Hotel</td>\n      <td>38.900478</td>\n      <td>-77.034006</td>\n    </tr>\n  </tbody>\n</table>\n</div>",
                        "text/plain": "            categories        lat        lng\n0       History Museum  38.891171 -77.032818\n1                Hotel  38.897215 -77.032541\n2                Hotel  38.900510 -77.036885\n3  Monument / Landmark  38.889377 -77.040516\n4  American Restaurant  38.897954 -77.033270\n5          Coffee Shop  38.898073 -77.031991\n6       History Museum  38.890874 -77.032535\n7       History Museum  38.891213 -77.030030\n8   Seafood Restaurant  38.899984 -77.033939\n9                Hotel  38.900478 -77.034006"
                    },
                    "execution_count": 58,
                    "metadata": {},
                    "output_type": "execute_result"
                }
            ],
            "source": "venues = results['response']['groups'][0]['items']\n    \nnearby_venues = json_normalize(venues) # flatten JSON\n\n# filter columns\nfiltered_columns = ['venue.categories', 'venue.location.lat', 'venue.location.lng']\nnearby_venues =nearby_venues.loc[:, filtered_columns]\n\n# filter the category for each row\nnearby_venues['venue.categories'] = nearby_venues.apply(get_category_type, axis=1)\n\n# clean columns\nnearby_venues.columns = [col.split(\".\")[-1] for col in nearby_venues.columns]\n\nnearby_venues.head(10)"
        },
        {
            "cell_type": "markdown",
            "metadata": {},
            "source": "\n#### We will combine all the above data for the regression model for ABC company."
        },
        {
            "cell_type": "markdown",
            "metadata": {},
            "source": "# Methodology "
        },
        {
            "cell_type": "code",
            "execution_count": 21,
            "metadata": {},
            "outputs": [],
            "source": "# discuss and describe any exploratory data analysis that you did, any inferential statistical testing that you performed, if any, and what machine learnings were used and why."
        },
        {
            "cell_type": "markdown",
            "metadata": {},
            "source": "## 1. Loop through cities to assign lat long"
        },
        {
            "cell_type": "code",
            "execution_count": 59,
            "metadata": {},
            "outputs": [],
            "source": "addresses = df['City'].values.tolist()\ngeolocator = Nominatim(user_agent=\"ny_explorer\")\n\nlatitudes = []\nlongitudes = []\nfor address in addresses: \n    location = geolocator.geocode(address)\n    latitude = location.latitude\n    longitude = location.longitude\n\n    \n    latitudes.append(latitude) \n    longitudes.append(longitude)"
        },
        {
            "cell_type": "code",
            "execution_count": 60,
            "metadata": {},
            "outputs": [
                {
                    "data": {
                        "text/html": "<div>\n<style scoped>\n    .dataframe tbody tr th:only-of-type {\n        vertical-align: middle;\n    }\n\n    .dataframe tbody tr th {\n        vertical-align: top;\n    }\n\n    .dataframe thead th {\n        text-align: right;\n    }\n</style>\n<table border=\"1\" class=\"dataframe\">\n  <thead>\n    <tr style=\"text-align: right;\">\n      <th></th>\n      <th>City</th>\n      <th>IncomeCapita</th>\n      <th>Lat</th>\n      <th>Long</th>\n    </tr>\n  </thead>\n  <tbody>\n    <tr>\n      <th>0</th>\n      <td>Washington, DC</td>\n      <td>47411</td>\n      <td>38.894992</td>\n      <td>-77.036558</td>\n    </tr>\n    <tr>\n      <th>1</th>\n      <td>San Jose, CA</td>\n      <td>40392</td>\n      <td>37.336191</td>\n      <td>-121.890583</td>\n    </tr>\n    <tr>\n      <th>2</th>\n      <td>Seattle, WA</td>\n      <td>39322</td>\n      <td>47.603832</td>\n      <td>-122.330062</td>\n    </tr>\n    <tr>\n      <th>3</th>\n      <td>San Francisco, CA</td>\n      <td>38355</td>\n      <td>37.779026</td>\n      <td>-122.419906</td>\n    </tr>\n    <tr>\n      <th>4</th>\n      <td>Boston, MA</td>\n      <td>37311</td>\n      <td>42.360253</td>\n      <td>-71.058291</td>\n    </tr>\n    <tr>\n      <th>5</th>\n      <td>Honolulu, HI</td>\n      <td>36339</td>\n      <td>21.304547</td>\n      <td>-157.855676</td>\n    </tr>\n    <tr>\n      <th>6</th>\n      <td>Minneapolis, Minnesota</td>\n      <td>35388</td>\n      <td>44.977300</td>\n      <td>-93.265469</td>\n    </tr>\n    <tr>\n      <th>7</th>\n      <td>Hartford, CT</td>\n      <td>34310</td>\n      <td>41.765558</td>\n      <td>-72.690613</td>\n    </tr>\n    <tr>\n      <th>8</th>\n      <td>Denver, CO</td>\n      <td>32399</td>\n      <td>5.342848</td>\n      <td>-72.395985</td>\n    </tr>\n    <tr>\n      <th>9</th>\n      <td>Portland, OR</td>\n      <td>31377</td>\n      <td>45.520247</td>\n      <td>-122.674195</td>\n    </tr>\n  </tbody>\n</table>\n</div>",
                        "text/plain": "                     City  IncomeCapita        Lat        Long\n0          Washington, DC         47411  38.894992  -77.036558\n1            San Jose, CA         40392  37.336191 -121.890583\n2             Seattle, WA         39322  47.603832 -122.330062\n3       San Francisco, CA         38355  37.779026 -122.419906\n4              Boston, MA         37311  42.360253  -71.058291\n5            Honolulu, HI         36339  21.304547 -157.855676\n6  Minneapolis, Minnesota         35388  44.977300  -93.265469\n7            Hartford, CT         34310  41.765558  -72.690613\n8              Denver, CO         32399   5.342848  -72.395985\n9            Portland, OR         31377  45.520247 -122.674195"
                    },
                    "execution_count": 60,
                    "metadata": {},
                    "output_type": "execute_result"
                }
            ],
            "source": "dfLat = pd.DataFrame({'Lat':latitudes})\ndfLong = pd.DataFrame({'Long':longitudes})\ndf = pd.concat([df, dfLat], axis=1)\ndf = pd.concat([df, dfLong], axis=1)\ndf"
        },
        {
            "cell_type": "markdown",
            "metadata": {},
            "source": "## 2. Pass lat longs to foursquare API"
        },
        {
            "cell_type": "code",
            "execution_count": 61,
            "metadata": {},
            "outputs": [],
            "source": "    \nvenues_list=[]\nfor name, lat, lng, inc in zip(df['City'], df['Lat'], df['Long'], df['IncomeCapita']):\n                    \n        # create the API request URL\n        url = 'https://api.foursquare.com/v2/venues/explore?&client_id={}&client_secret={}&v={}&ll={},{}&radius={}&limit={}'.format(\n            CLIENT_ID, \n            CLIENT_SECRET, \n            VERSION, \n            lat, \n            lng, \n            radius, \n            LIMIT)\n            \n        # make the GET request\n        results = requests.get(url).json()[\"response\"]['groups'][0]['items']\n        \n        # return only relevant information for each nearby venue\n        venues_list.append([(\n            name, \n            lat, \n            lng, \n            inc,\n            v['venue']['name'],  \n            v['venue']['categories'][0]['name']) for v in results])\n\nnearby_venues2 = pd.DataFrame([item for venue_list in venues_list for item in venue_list])\nnearby_venues2.columns = ['City', \n                  'Latitude', \n                  'Longitude', \n                  'IncomeCapita',\n                  'Venue', \n                  'Venue Category']\n    "
        },
        {
            "cell_type": "markdown",
            "metadata": {},
            "source": "## Foursquare Results"
        },
        {
            "cell_type": "code",
            "execution_count": 62,
            "metadata": {},
            "outputs": [
                {
                    "data": {
                        "text/html": "<div>\n<style scoped>\n    .dataframe tbody tr th:only-of-type {\n        vertical-align: middle;\n    }\n\n    .dataframe tbody tr th {\n        vertical-align: top;\n    }\n\n    .dataframe thead th {\n        text-align: right;\n    }\n</style>\n<table border=\"1\" class=\"dataframe\">\n  <thead>\n    <tr style=\"text-align: right;\">\n      <th></th>\n      <th>City</th>\n      <th>Latitude</th>\n      <th>Longitude</th>\n      <th>IncomeCapita</th>\n      <th>Venue</th>\n      <th>Venue Category</th>\n    </tr>\n  </thead>\n  <tbody>\n    <tr>\n      <th>0</th>\n      <td>Washington, DC</td>\n      <td>38.894992</td>\n      <td>-77.036558</td>\n      <td>47411</td>\n      <td>National Museum of African American History an...</td>\n      <td>History Museum</td>\n    </tr>\n    <tr>\n      <th>1</th>\n      <td>Washington, DC</td>\n      <td>38.894992</td>\n      <td>-77.036558</td>\n      <td>47411</td>\n      <td>The Willard InterContinental Washington D.C. H...</td>\n      <td>Hotel</td>\n    </tr>\n    <tr>\n      <th>2</th>\n      <td>Washington, DC</td>\n      <td>38.894992</td>\n      <td>-77.036558</td>\n      <td>47411</td>\n      <td>The Hay-Adams</td>\n      <td>Hotel</td>\n    </tr>\n    <tr>\n      <th>3</th>\n      <td>Washington, DC</td>\n      <td>38.894992</td>\n      <td>-77.036558</td>\n      <td>47411</td>\n      <td>World War II Memorial</td>\n      <td>Monument / Landmark</td>\n    </tr>\n    <tr>\n      <th>4</th>\n      <td>Washington, DC</td>\n      <td>38.894992</td>\n      <td>-77.036558</td>\n      <td>47411</td>\n      <td>Old Ebbitt Grill</td>\n      <td>American Restaurant</td>\n    </tr>\n    <tr>\n      <th>...</th>\n      <td>...</td>\n      <td>...</td>\n      <td>...</td>\n      <td>...</td>\n      <td>...</td>\n      <td>...</td>\n    </tr>\n    <tr>\n      <th>933</th>\n      <td>Portland, OR</td>\n      <td>45.520247</td>\n      <td>-122.674195</td>\n      <td>31377</td>\n      <td>Ox</td>\n      <td>Argentinian Restaurant</td>\n    </tr>\n    <tr>\n      <th>934</th>\n      <td>Portland, OR</td>\n      <td>45.520247</td>\n      <td>-122.674195</td>\n      <td>31377</td>\n      <td>Meat for Cats &amp; Dogs</td>\n      <td>Pet Store</td>\n    </tr>\n    <tr>\n      <th>935</th>\n      <td>Portland, OR</td>\n      <td>45.520247</td>\n      <td>-122.674195</td>\n      <td>31377</td>\n      <td>St. Honor\u00e9 Boulangerie</td>\n      <td>Caf\u00e9</td>\n    </tr>\n    <tr>\n      <th>936</th>\n      <td>Portland, OR</td>\n      <td>45.520247</td>\n      <td>-122.674195</td>\n      <td>31377</td>\n      <td>International Rose Test Garden</td>\n      <td>Botanical Garden</td>\n    </tr>\n    <tr>\n      <th>937</th>\n      <td>Portland, OR</td>\n      <td>45.520247</td>\n      <td>-122.674195</td>\n      <td>31377</td>\n      <td>Life Of Pie</td>\n      <td>Pizza Place</td>\n    </tr>\n  </tbody>\n</table>\n<p>938 rows \u00d7 6 columns</p>\n</div>",
                        "text/plain": "               City   Latitude   Longitude  IncomeCapita  \\\n0    Washington, DC  38.894992  -77.036558         47411   \n1    Washington, DC  38.894992  -77.036558         47411   \n2    Washington, DC  38.894992  -77.036558         47411   \n3    Washington, DC  38.894992  -77.036558         47411   \n4    Washington, DC  38.894992  -77.036558         47411   \n..              ...        ...         ...           ...   \n933    Portland, OR  45.520247 -122.674195         31377   \n934    Portland, OR  45.520247 -122.674195         31377   \n935    Portland, OR  45.520247 -122.674195         31377   \n936    Portland, OR  45.520247 -122.674195         31377   \n937    Portland, OR  45.520247 -122.674195         31377   \n\n                                                 Venue          Venue Category  \n0    National Museum of African American History an...          History Museum  \n1    The Willard InterContinental Washington D.C. H...                   Hotel  \n2                                        The Hay-Adams                   Hotel  \n3                                World War II Memorial     Monument / Landmark  \n4                                     Old Ebbitt Grill     American Restaurant  \n..                                                 ...                     ...  \n933                                                 Ox  Argentinian Restaurant  \n934                               Meat for Cats & Dogs               Pet Store  \n935                             St. Honor\u00e9 Boulangerie                    Caf\u00e9  \n936                     International Rose Test Garden        Botanical Garden  \n937                                        Life Of Pie             Pizza Place  \n\n[938 rows x 6 columns]"
                    },
                    "execution_count": 62,
                    "metadata": {},
                    "output_type": "execute_result"
                }
            ],
            "source": "nearby_venues2"
        },
        {
            "cell_type": "code",
            "execution_count": 72,
            "metadata": {},
            "outputs": [
                {
                    "data": {
                        "text/html": "<div>\n<style scoped>\n    .dataframe tbody tr th:only-of-type {\n        vertical-align: middle;\n    }\n\n    .dataframe tbody tr th {\n        vertical-align: top;\n    }\n\n    .dataframe thead th {\n        text-align: right;\n    }\n</style>\n<table border=\"1\" class=\"dataframe\">\n  <thead>\n    <tr style=\"text-align: right;\">\n      <th></th>\n      <th>Latitude</th>\n      <th>Longitude</th>\n      <th>IncomeCapita</th>\n      <th>Venue</th>\n      <th>Venue Category</th>\n    </tr>\n    <tr>\n      <th>City</th>\n      <th></th>\n      <th></th>\n      <th></th>\n      <th></th>\n      <th></th>\n    </tr>\n  </thead>\n  <tbody>\n    <tr>\n      <th>Boston, MA</th>\n      <td>100</td>\n      <td>100</td>\n      <td>100</td>\n      <td>100</td>\n      <td>100</td>\n    </tr>\n    <tr>\n      <th>Denver, CO</th>\n      <td>38</td>\n      <td>38</td>\n      <td>38</td>\n      <td>38</td>\n      <td>38</td>\n    </tr>\n    <tr>\n      <th>Hartford, CT</th>\n      <td>100</td>\n      <td>100</td>\n      <td>100</td>\n      <td>100</td>\n      <td>100</td>\n    </tr>\n    <tr>\n      <th>Honolulu, HI</th>\n      <td>100</td>\n      <td>100</td>\n      <td>100</td>\n      <td>100</td>\n      <td>100</td>\n    </tr>\n    <tr>\n      <th>Minneapolis, Minnesota</th>\n      <td>100</td>\n      <td>100</td>\n      <td>100</td>\n      <td>100</td>\n      <td>100</td>\n    </tr>\n    <tr>\n      <th>Portland, OR</th>\n      <td>100</td>\n      <td>100</td>\n      <td>100</td>\n      <td>100</td>\n      <td>100</td>\n    </tr>\n    <tr>\n      <th>San Francisco, CA</th>\n      <td>100</td>\n      <td>100</td>\n      <td>100</td>\n      <td>100</td>\n      <td>100</td>\n    </tr>\n    <tr>\n      <th>San Jose, CA</th>\n      <td>100</td>\n      <td>100</td>\n      <td>100</td>\n      <td>100</td>\n      <td>100</td>\n    </tr>\n    <tr>\n      <th>Seattle, WA</th>\n      <td>100</td>\n      <td>100</td>\n      <td>100</td>\n      <td>100</td>\n      <td>100</td>\n    </tr>\n    <tr>\n      <th>Washington, DC</th>\n      <td>100</td>\n      <td>100</td>\n      <td>100</td>\n      <td>100</td>\n      <td>100</td>\n    </tr>\n  </tbody>\n</table>\n</div>",
                        "text/plain": "                        Latitude  Longitude  IncomeCapita  Venue  \\\nCity                                                               \nBoston, MA                   100        100           100    100   \nDenver, CO                    38         38            38     38   \nHartford, CT                 100        100           100    100   \nHonolulu, HI                 100        100           100    100   \nMinneapolis, Minnesota       100        100           100    100   \nPortland, OR                 100        100           100    100   \nSan Francisco, CA            100        100           100    100   \nSan Jose, CA                 100        100           100    100   \nSeattle, WA                  100        100           100    100   \nWashington, DC               100        100           100    100   \n\n                        Venue Category  \nCity                                    \nBoston, MA                         100  \nDenver, CO                          38  \nHartford, CT                       100  \nHonolulu, HI                       100  \nMinneapolis, Minnesota             100  \nPortland, OR                       100  \nSan Francisco, CA                  100  \nSan Jose, CA                       100  \nSeattle, WA                        100  \nWashington, DC                     100  "
                    },
                    "execution_count": 72,
                    "metadata": {},
                    "output_type": "execute_result"
                }
            ],
            "source": "#Let's check how many venues were returned for each neighborhood\n\nnearby_venues2.groupby('City').count()\n"
        },
        {
            "cell_type": "markdown",
            "metadata": {},
            "source": "## 3. One hot encoding"
        },
        {
            "cell_type": "code",
            "execution_count": 96,
            "metadata": {},
            "outputs": [
                {
                    "data": {
                        "text/html": "<div>\n<style scoped>\n    .dataframe tbody tr th:only-of-type {\n        vertical-align: middle;\n    }\n\n    .dataframe tbody tr th {\n        vertical-align: top;\n    }\n\n    .dataframe thead th {\n        text-align: right;\n    }\n</style>\n<table border=\"1\" class=\"dataframe\">\n  <thead>\n    <tr style=\"text-align: right;\">\n      <th></th>\n      <th>City</th>\n      <th>Adult Boutique</th>\n      <th>American Restaurant</th>\n      <th>Antique Shop</th>\n      <th>Aquarium</th>\n      <th>Argentinian Restaurant</th>\n      <th>Art Gallery</th>\n      <th>Art Museum</th>\n      <th>Arts &amp; Crafts Store</th>\n      <th>Asian Restaurant</th>\n      <th>...</th>\n      <th>Toy / Game Store</th>\n      <th>Trail</th>\n      <th>Tram Station</th>\n      <th>Vegetarian / Vegan Restaurant</th>\n      <th>Vietnamese Restaurant</th>\n      <th>Waterfront</th>\n      <th>Wine Bar</th>\n      <th>Wine Shop</th>\n      <th>Yoga Studio</th>\n      <th>Zoo</th>\n    </tr>\n  </thead>\n  <tbody>\n    <tr>\n      <th>0</th>\n      <td>Washington, DC</td>\n      <td>0</td>\n      <td>0</td>\n      <td>0</td>\n      <td>0</td>\n      <td>0</td>\n      <td>0</td>\n      <td>0</td>\n      <td>0</td>\n      <td>0</td>\n      <td>...</td>\n      <td>0</td>\n      <td>0</td>\n      <td>0</td>\n      <td>0</td>\n      <td>0</td>\n      <td>0</td>\n      <td>0</td>\n      <td>0</td>\n      <td>0</td>\n      <td>0</td>\n    </tr>\n    <tr>\n      <th>1</th>\n      <td>Washington, DC</td>\n      <td>0</td>\n      <td>0</td>\n      <td>0</td>\n      <td>0</td>\n      <td>0</td>\n      <td>0</td>\n      <td>0</td>\n      <td>0</td>\n      <td>0</td>\n      <td>...</td>\n      <td>0</td>\n      <td>0</td>\n      <td>0</td>\n      <td>0</td>\n      <td>0</td>\n      <td>0</td>\n      <td>0</td>\n      <td>0</td>\n      <td>0</td>\n      <td>0</td>\n    </tr>\n    <tr>\n      <th>2</th>\n      <td>Washington, DC</td>\n      <td>0</td>\n      <td>0</td>\n      <td>0</td>\n      <td>0</td>\n      <td>0</td>\n      <td>0</td>\n      <td>0</td>\n      <td>0</td>\n      <td>0</td>\n      <td>...</td>\n      <td>0</td>\n      <td>0</td>\n      <td>0</td>\n      <td>0</td>\n      <td>0</td>\n      <td>0</td>\n      <td>0</td>\n      <td>0</td>\n      <td>0</td>\n      <td>0</td>\n    </tr>\n    <tr>\n      <th>3</th>\n      <td>Washington, DC</td>\n      <td>0</td>\n      <td>0</td>\n      <td>0</td>\n      <td>0</td>\n      <td>0</td>\n      <td>0</td>\n      <td>0</td>\n      <td>0</td>\n      <td>0</td>\n      <td>...</td>\n      <td>0</td>\n      <td>0</td>\n      <td>0</td>\n      <td>0</td>\n      <td>0</td>\n      <td>0</td>\n      <td>0</td>\n      <td>0</td>\n      <td>0</td>\n      <td>0</td>\n    </tr>\n    <tr>\n      <th>4</th>\n      <td>Washington, DC</td>\n      <td>0</td>\n      <td>1</td>\n      <td>0</td>\n      <td>0</td>\n      <td>0</td>\n      <td>0</td>\n      <td>0</td>\n      <td>0</td>\n      <td>0</td>\n      <td>...</td>\n      <td>0</td>\n      <td>0</td>\n      <td>0</td>\n      <td>0</td>\n      <td>0</td>\n      <td>0</td>\n      <td>0</td>\n      <td>0</td>\n      <td>0</td>\n      <td>0</td>\n    </tr>\n  </tbody>\n</table>\n<p>5 rows \u00d7 199 columns</p>\n</div>",
                        "text/plain": "             City  Adult Boutique  American Restaurant  Antique Shop  \\\n0  Washington, DC               0                    0             0   \n1  Washington, DC               0                    0             0   \n2  Washington, DC               0                    0             0   \n3  Washington, DC               0                    0             0   \n4  Washington, DC               0                    1             0   \n\n   Aquarium  Argentinian Restaurant  Art Gallery  Art Museum  \\\n0         0                       0            0           0   \n1         0                       0            0           0   \n2         0                       0            0           0   \n3         0                       0            0           0   \n4         0                       0            0           0   \n\n   Arts & Crafts Store  Asian Restaurant  ...  Toy / Game Store  Trail  \\\n0                    0                 0  ...                 0      0   \n1                    0                 0  ...                 0      0   \n2                    0                 0  ...                 0      0   \n3                    0                 0  ...                 0      0   \n4                    0                 0  ...                 0      0   \n\n   Tram Station  Vegetarian / Vegan Restaurant  Vietnamese Restaurant  \\\n0             0                              0                      0   \n1             0                              0                      0   \n2             0                              0                      0   \n3             0                              0                      0   \n4             0                              0                      0   \n\n   Waterfront  Wine Bar  Wine Shop  Yoga Studio  Zoo  \n0           0         0          0            0    0  \n1           0         0          0            0    0  \n2           0         0          0            0    0  \n3           0         0          0            0    0  \n4           0         0          0            0    0  \n\n[5 rows x 199 columns]"
                    },
                    "execution_count": 96,
                    "metadata": {},
                    "output_type": "execute_result"
                }
            ],
            "source": "# one hot encoding\nonehot = pd.get_dummies(nearby_venues2[['Venue Category']], prefix=\"\", prefix_sep=\"\")\n\n# add neighborhood column back to dataframe\n#onehot['IncomeCapita'] = nearby_venues2['IncomeCapita'] \nonehot['City'] = nearby_venues2['City'] \n\n# move neighborhood column to the first column\nfixed_columns = [onehot.columns[-1]] + list(onehot.columns[:-1])\nonehot = onehot[fixed_columns]\n\nonehot.head()\n#onehot.loc[onehot['City'] == 'Denver, CO']"
        },
        {
            "cell_type": "markdown",
            "metadata": {},
            "source": "# Final output of counts of venues"
        },
        {
            "cell_type": "code",
            "execution_count": 104,
            "metadata": {},
            "outputs": [
                {
                    "data": {
                        "text/html": "<div>\n<style scoped>\n    .dataframe tbody tr th:only-of-type {\n        vertical-align: middle;\n    }\n\n    .dataframe tbody tr th {\n        vertical-align: top;\n    }\n\n    .dataframe thead th {\n        text-align: right;\n    }\n</style>\n<table border=\"1\" class=\"dataframe\">\n  <thead>\n    <tr style=\"text-align: right;\">\n      <th></th>\n      <th>City</th>\n      <th>Adult Boutique</th>\n      <th>American Restaurant</th>\n      <th>Antique Shop</th>\n      <th>Aquarium</th>\n      <th>Argentinian Restaurant</th>\n      <th>Art Gallery</th>\n      <th>Art Museum</th>\n      <th>Arts &amp; Crafts Store</th>\n      <th>Asian Restaurant</th>\n      <th>...</th>\n      <th>Vegetarian / Vegan Restaurant</th>\n      <th>Vietnamese Restaurant</th>\n      <th>Waterfront</th>\n      <th>Wine Bar</th>\n      <th>Wine Shop</th>\n      <th>Yoga Studio</th>\n      <th>Zoo</th>\n      <th>IncomeCapita</th>\n      <th>Lat</th>\n      <th>Long</th>\n    </tr>\n  </thead>\n  <tbody>\n    <tr>\n      <th>0</th>\n      <td>Boston, MA</td>\n      <td>0</td>\n      <td>3</td>\n      <td>0</td>\n      <td>1</td>\n      <td>0</td>\n      <td>0</td>\n      <td>0</td>\n      <td>0</td>\n      <td>1</td>\n      <td>...</td>\n      <td>0</td>\n      <td>0</td>\n      <td>0</td>\n      <td>1</td>\n      <td>1</td>\n      <td>0</td>\n      <td>0</td>\n      <td>37311</td>\n      <td>42.360253</td>\n      <td>-71.058291</td>\n    </tr>\n    <tr>\n      <th>1</th>\n      <td>Denver, CO</td>\n      <td>0</td>\n      <td>0</td>\n      <td>0</td>\n      <td>0</td>\n      <td>0</td>\n      <td>0</td>\n      <td>0</td>\n      <td>0</td>\n      <td>0</td>\n      <td>...</td>\n      <td>0</td>\n      <td>0</td>\n      <td>0</td>\n      <td>0</td>\n      <td>0</td>\n      <td>0</td>\n      <td>0</td>\n      <td>32399</td>\n      <td>5.342848</td>\n      <td>-72.395985</td>\n    </tr>\n    <tr>\n      <th>2</th>\n      <td>Hartford, CT</td>\n      <td>0</td>\n      <td>8</td>\n      <td>0</td>\n      <td>0</td>\n      <td>0</td>\n      <td>1</td>\n      <td>1</td>\n      <td>2</td>\n      <td>0</td>\n      <td>...</td>\n      <td>0</td>\n      <td>2</td>\n      <td>0</td>\n      <td>1</td>\n      <td>0</td>\n      <td>1</td>\n      <td>0</td>\n      <td>34310</td>\n      <td>41.765558</td>\n      <td>-72.690613</td>\n    </tr>\n    <tr>\n      <th>3</th>\n      <td>Honolulu, HI</td>\n      <td>0</td>\n      <td>1</td>\n      <td>0</td>\n      <td>0</td>\n      <td>0</td>\n      <td>0</td>\n      <td>1</td>\n      <td>0</td>\n      <td>0</td>\n      <td>...</td>\n      <td>1</td>\n      <td>2</td>\n      <td>0</td>\n      <td>1</td>\n      <td>0</td>\n      <td>0</td>\n      <td>0</td>\n      <td>36339</td>\n      <td>21.304547</td>\n      <td>-157.855676</td>\n    </tr>\n    <tr>\n      <th>4</th>\n      <td>Minneapolis, Minnesota</td>\n      <td>0</td>\n      <td>2</td>\n      <td>1</td>\n      <td>0</td>\n      <td>0</td>\n      <td>2</td>\n      <td>1</td>\n      <td>0</td>\n      <td>2</td>\n      <td>...</td>\n      <td>0</td>\n      <td>4</td>\n      <td>0</td>\n      <td>0</td>\n      <td>0</td>\n      <td>0</td>\n      <td>0</td>\n      <td>35388</td>\n      <td>44.977300</td>\n      <td>-93.265469</td>\n    </tr>\n    <tr>\n      <th>5</th>\n      <td>Portland, OR</td>\n      <td>0</td>\n      <td>1</td>\n      <td>0</td>\n      <td>0</td>\n      <td>1</td>\n      <td>0</td>\n      <td>1</td>\n      <td>0</td>\n      <td>0</td>\n      <td>...</td>\n      <td>1</td>\n      <td>2</td>\n      <td>0</td>\n      <td>0</td>\n      <td>0</td>\n      <td>1</td>\n      <td>0</td>\n      <td>31377</td>\n      <td>45.520247</td>\n      <td>-122.674195</td>\n    </tr>\n    <tr>\n      <th>6</th>\n      <td>San Francisco, CA</td>\n      <td>1</td>\n      <td>0</td>\n      <td>0</td>\n      <td>0</td>\n      <td>0</td>\n      <td>0</td>\n      <td>3</td>\n      <td>1</td>\n      <td>0</td>\n      <td>...</td>\n      <td>0</td>\n      <td>0</td>\n      <td>0</td>\n      <td>2</td>\n      <td>1</td>\n      <td>5</td>\n      <td>0</td>\n      <td>38355</td>\n      <td>37.779026</td>\n      <td>-122.419906</td>\n    </tr>\n    <tr>\n      <th>7</th>\n      <td>San Jose, CA</td>\n      <td>0</td>\n      <td>0</td>\n      <td>0</td>\n      <td>0</td>\n      <td>0</td>\n      <td>1</td>\n      <td>0</td>\n      <td>0</td>\n      <td>1</td>\n      <td>...</td>\n      <td>3</td>\n      <td>3</td>\n      <td>0</td>\n      <td>0</td>\n      <td>0</td>\n      <td>1</td>\n      <td>1</td>\n      <td>40392</td>\n      <td>37.336191</td>\n      <td>-121.890583</td>\n    </tr>\n    <tr>\n      <th>8</th>\n      <td>Seattle, WA</td>\n      <td>0</td>\n      <td>0</td>\n      <td>0</td>\n      <td>0</td>\n      <td>0</td>\n      <td>0</td>\n      <td>2</td>\n      <td>0</td>\n      <td>0</td>\n      <td>...</td>\n      <td>0</td>\n      <td>4</td>\n      <td>1</td>\n      <td>1</td>\n      <td>0</td>\n      <td>3</td>\n      <td>0</td>\n      <td>39322</td>\n      <td>47.603832</td>\n      <td>-122.330062</td>\n    </tr>\n    <tr>\n      <th>9</th>\n      <td>Washington, DC</td>\n      <td>0</td>\n      <td>4</td>\n      <td>0</td>\n      <td>0</td>\n      <td>0</td>\n      <td>0</td>\n      <td>5</td>\n      <td>0</td>\n      <td>1</td>\n      <td>...</td>\n      <td>1</td>\n      <td>0</td>\n      <td>1</td>\n      <td>2</td>\n      <td>1</td>\n      <td>0</td>\n      <td>0</td>\n      <td>47411</td>\n      <td>38.894992</td>\n      <td>-77.036558</td>\n    </tr>\n  </tbody>\n</table>\n<p>10 rows \u00d7 202 columns</p>\n</div>",
                        "text/plain": "                     City  Adult Boutique  American Restaurant  Antique Shop  \\\n0              Boston, MA               0                    3             0   \n1              Denver, CO               0                    0             0   \n2            Hartford, CT               0                    8             0   \n3            Honolulu, HI               0                    1             0   \n4  Minneapolis, Minnesota               0                    2             1   \n5            Portland, OR               0                    1             0   \n6       San Francisco, CA               1                    0             0   \n7            San Jose, CA               0                    0             0   \n8             Seattle, WA               0                    0             0   \n9          Washington, DC               0                    4             0   \n\n   Aquarium  Argentinian Restaurant  Art Gallery  Art Museum  \\\n0         1                       0            0           0   \n1         0                       0            0           0   \n2         0                       0            1           1   \n3         0                       0            0           1   \n4         0                       0            2           1   \n5         0                       1            0           1   \n6         0                       0            0           3   \n7         0                       0            1           0   \n8         0                       0            0           2   \n9         0                       0            0           5   \n\n   Arts & Crafts Store  Asian Restaurant  ...  Vegetarian / Vegan Restaurant  \\\n0                    0                 1  ...                              0   \n1                    0                 0  ...                              0   \n2                    2                 0  ...                              0   \n3                    0                 0  ...                              1   \n4                    0                 2  ...                              0   \n5                    0                 0  ...                              1   \n6                    1                 0  ...                              0   \n7                    0                 1  ...                              3   \n8                    0                 0  ...                              0   \n9                    0                 1  ...                              1   \n\n   Vietnamese Restaurant  Waterfront  Wine Bar  Wine Shop  Yoga Studio  Zoo  \\\n0                      0           0         1          1            0    0   \n1                      0           0         0          0            0    0   \n2                      2           0         1          0            1    0   \n3                      2           0         1          0            0    0   \n4                      4           0         0          0            0    0   \n5                      2           0         0          0            1    0   \n6                      0           0         2          1            5    0   \n7                      3           0         0          0            1    1   \n8                      4           1         1          0            3    0   \n9                      0           1         2          1            0    0   \n\n   IncomeCapita        Lat        Long  \n0         37311  42.360253  -71.058291  \n1         32399   5.342848  -72.395985  \n2         34310  41.765558  -72.690613  \n3         36339  21.304547 -157.855676  \n4         35388  44.977300  -93.265469  \n5         31377  45.520247 -122.674195  \n6         38355  37.779026 -122.419906  \n7         40392  37.336191 -121.890583  \n8         39322  47.603832 -122.330062  \n9         47411  38.894992  -77.036558  \n\n[10 rows x 202 columns]"
                    },
                    "execution_count": 104,
                    "metadata": {},
                    "output_type": "execute_result"
                }
            ],
            "source": "\ngrouped = onehot.groupby('City').sum().reset_index()\ngrouped\n\nvenues_grouped = pd.merge(grouped, df, on=[\"City\"])\nvenues_grouped.head(10)"
        },
        {
            "cell_type": "markdown",
            "metadata": {},
            "source": "## 4. Fit regression model"
        },
        {
            "cell_type": "code",
            "execution_count": 105,
            "metadata": {},
            "outputs": [
                {
                    "name": "stderr",
                    "output_type": "stream",
                    "text": "/opt/conda/envs/Python-3.7-main/lib/python3.7/site-packages/pandas/core/frame.py:4133: SettingWithCopyWarning: \nA value is trying to be set on a copy of a slice from a DataFrame\n\nSee the caveats in the documentation: https://pandas.pydata.org/pandas-docs/stable/user_guide/indexing.html#returning-a-view-versus-a-copy\n  errors=errors,\n"
                },
                {
                    "data": {
                        "text/html": "<div>\n<style scoped>\n    .dataframe tbody tr th:only-of-type {\n        vertical-align: middle;\n    }\n\n    .dataframe tbody tr th {\n        vertical-align: top;\n    }\n\n    .dataframe thead th {\n        text-align: right;\n    }\n</style>\n<table border=\"1\" class=\"dataframe\">\n  <thead>\n    <tr style=\"text-align: right;\">\n      <th></th>\n      <th>City</th>\n      <th>PizzaPlace</th>\n      <th>CoffeeShop</th>\n      <th>Gym</th>\n      <th>WineBar</th>\n      <th>IncomeCapita</th>\n    </tr>\n  </thead>\n  <tbody>\n    <tr>\n      <th>0</th>\n      <td>Boston, MA</td>\n      <td>2</td>\n      <td>4</td>\n      <td>0</td>\n      <td>1</td>\n      <td>37311</td>\n    </tr>\n    <tr>\n      <th>1</th>\n      <td>Denver, CO</td>\n      <td>3</td>\n      <td>0</td>\n      <td>2</td>\n      <td>0</td>\n      <td>32399</td>\n    </tr>\n    <tr>\n      <th>2</th>\n      <td>Hartford, CT</td>\n      <td>5</td>\n      <td>2</td>\n      <td>1</td>\n      <td>1</td>\n      <td>34310</td>\n    </tr>\n    <tr>\n      <th>3</th>\n      <td>Honolulu, HI</td>\n      <td>2</td>\n      <td>4</td>\n      <td>1</td>\n      <td>1</td>\n      <td>36339</td>\n    </tr>\n    <tr>\n      <th>4</th>\n      <td>Minneapolis, Minnesota</td>\n      <td>4</td>\n      <td>3</td>\n      <td>2</td>\n      <td>0</td>\n      <td>35388</td>\n    </tr>\n    <tr>\n      <th>5</th>\n      <td>Portland, OR</td>\n      <td>2</td>\n      <td>8</td>\n      <td>0</td>\n      <td>0</td>\n      <td>31377</td>\n    </tr>\n    <tr>\n      <th>6</th>\n      <td>San Francisco, CA</td>\n      <td>2</td>\n      <td>9</td>\n      <td>2</td>\n      <td>2</td>\n      <td>38355</td>\n    </tr>\n    <tr>\n      <th>7</th>\n      <td>San Jose, CA</td>\n      <td>4</td>\n      <td>2</td>\n      <td>1</td>\n      <td>0</td>\n      <td>40392</td>\n    </tr>\n    <tr>\n      <th>8</th>\n      <td>Seattle, WA</td>\n      <td>2</td>\n      <td>6</td>\n      <td>1</td>\n      <td>1</td>\n      <td>39322</td>\n    </tr>\n    <tr>\n      <th>9</th>\n      <td>Washington, DC</td>\n      <td>0</td>\n      <td>3</td>\n      <td>0</td>\n      <td>2</td>\n      <td>47411</td>\n    </tr>\n  </tbody>\n</table>\n</div>",
                        "text/plain": "                     City  PizzaPlace  CoffeeShop  Gym  WineBar  IncomeCapita\n0              Boston, MA           2           4    0        1         37311\n1              Denver, CO           3           0    2        0         32399\n2            Hartford, CT           5           2    1        1         34310\n3            Honolulu, HI           2           4    1        1         36339\n4  Minneapolis, Minnesota           4           3    2        0         35388\n5            Portland, OR           2           8    0        0         31377\n6       San Francisco, CA           2           9    2        2         38355\n7            San Jose, CA           4           2    1        0         40392\n8             Seattle, WA           2           6    1        1         39322\n9          Washington, DC           0           3    0        2         47411"
                    },
                    "execution_count": 105,
                    "metadata": {},
                    "output_type": "execute_result"
                }
            ],
            "source": "# Remove columns to keep only our 4 venue categories\ndf2 = venues_grouped[['City', 'Pizza Place', 'Coffee Shop', 'Gym', 'Wine Bar', 'IncomeCapita']]\n\ndf2.rename(columns={'Pizza Place': 'PizzaPlace', 'Coffee Shop': 'CoffeeShop', 'Wine Bar': 'WineBar'}, inplace=True)\ndf2.head(10)"
        },
        {
            "cell_type": "markdown",
            "metadata": {},
            "source": "### 4.1 Pizza places - try a linear model"
        },
        {
            "cell_type": "code",
            "execution_count": 106,
            "metadata": {},
            "outputs": [
                {
                    "data": {
                        "image/png": "[encoded data removed]",
                        "text/plain": "<Figure size 432x288 with 1 Axes>"
                    },
                    "metadata": {
                        "needs_background": "light"
                    },
                    "output_type": "display_data"
                }
            ],
            "source": "plt.scatter(df2.PizzaPlace, df2.IncomeCapita,  color='blue')\nplt.xlabel(\"PizzaPlace\")\nplt.ylabel(\"IncomeCapita\")\nplt.show()"
        },
        {
            "cell_type": "markdown",
            "metadata": {},
            "source": "### Pizza place may have a negative linear correllation "
        },
        {
            "cell_type": "code",
            "execution_count": 112,
            "metadata": {},
            "outputs": [],
            "source": "# Train / test split \n\nmsk = np.random.rand(len(df)) < 0.8\ntrain = df2[msk]\ntest = df2[~msk]"
        },
        {
            "cell_type": "code",
            "execution_count": 127,
            "metadata": {},
            "outputs": [
                {
                    "name": "stdout",
                    "output_type": "stream",
                    "text": "Coefficients:  [[-1587.90909091]]\n"
                }
            ],
            "source": "# fit the model\n\nfrom sklearn import linear_model\nregr = linear_model.LinearRegression()\nx = np.asanyarray(train[['PizzaPlace']])\ny = np.asanyarray(train[['IncomeCapita']])\nregr.fit (x, y)\n# The coefficients\nprint ('Coefficients: ', regr.coef_)"
        },
        {
            "cell_type": "code",
            "execution_count": 128,
            "metadata": {},
            "outputs": [
                {
                    "name": "stdout",
                    "output_type": "stream",
                    "text": "Residual sum of squares: 10911919.61\nVariance score: 0.09\n"
                }
            ],
            "source": "# make a prediction & score\n\ny_hat= regr.predict(test[['PizzaPlace']])\nx = np.asanyarray(test[['PizzaPlace']])\ny = np.asanyarray(test[['IncomeCapita']])\nprint(\"Residual sum of squares: %.2f\"\n      % np.mean((y_hat - y) ** 2))\n\n# Explained variance score: 1 is perfect prediction\nprint('Variance score: %.2f' % regr.score(x, y))"
        },
        {
            "cell_type": "markdown",
            "metadata": {},
            "source": "### A model was fitted, but it only explains 9% of the variance."
        },
        {
            "cell_type": "code",
            "execution_count": 129,
            "metadata": {},
            "outputs": [
                {
                    "data": {
                        "text/plain": "Text(0, 0.5, 'IncomeCapita')"
                    },
                    "execution_count": 129,
                    "metadata": {},
                    "output_type": "execute_result"
                },
                {
                    "data": {
                        "image/png": "[encoded data removed]",
                        "text/plain": "<Figure size 432x288 with 1 Axes>"
                    },
                    "metadata": {
                        "needs_background": "light"
                    },
                    "output_type": "display_data"
                }
            ],
            "source": "# plot the model to assess visually\n\nplt.scatter(train.PizzaPlace, train.IncomeCapita,  color='blue')\nplt.plot(train_x, regr.coef_[0][0]*train_x + regr.intercept_[0], '-r')\nplt.xlabel(\"PizzaPlace\")\nplt.ylabel(\"IncomeCapita\")"
        },
        {
            "cell_type": "markdown",
            "metadata": {},
            "source": "## Let's try coffee shops"
        },
        {
            "cell_type": "code",
            "execution_count": 107,
            "metadata": {},
            "outputs": [
                {
                    "data": {
                        "image/png": "[encoded data removed]",
                        "text/plain": "<Figure size 432x288 with 1 Axes>"
                    },
                    "metadata": {
                        "needs_background": "light"
                    },
                    "output_type": "display_data"
                }
            ],
            "source": "# assess visually\n\nplt.scatter(df2.CoffeeShop, df2.IncomeCapita,  color='blue')\nplt.xlabel(\"CoffeeShop\")\nplt.ylabel(\"IncomeCapita\")\nplt.show()"
        },
        {
            "cell_type": "markdown",
            "metadata": {},
            "source": "## Coffee shop may have a polynomial relationship"
        },
        {
            "cell_type": "code",
            "execution_count": 117,
            "metadata": {},
            "outputs": [
                {
                    "data": {
                        "text/plain": "array([[ 1.,  4., 16.],\n       [ 1.,  2.,  4.],\n       [ 1.,  4., 16.],\n       [ 1.,  3.,  9.],\n       [ 1.,  8., 64.],\n       [ 1.,  9., 81.],\n       [ 1.,  2.,  4.],\n       [ 1.,  3.,  9.]])"
                    },
                    "execution_count": 117,
                    "metadata": {},
                    "output_type": "execute_result"
                }
            ],
            "source": "# split the data, set up the model\n\nfrom sklearn.preprocessing import PolynomialFeatures\nfrom sklearn import linear_model\ntrain_x = np.asanyarray(train[['CoffeeShop']])\ntrain_y = np.asanyarray(train[['IncomeCapita']])\n\ntest_x = np.asanyarray(test[['CoffeeShop']])\ntest_y = np.asanyarray(test[['IncomeCapita']])\n\npoly = PolynomialFeatures(degree=2)\ntrain_x_poly = poly.fit_transform(train_x)\ntrain_x_poly"
        },
        {
            "cell_type": "code",
            "execution_count": 118,
            "metadata": {},
            "outputs": [
                {
                    "name": "stdout",
                    "output_type": "stream",
                    "text": "Coefficients:  [[    0.         -1327.16867328    69.78245987]]\nIntercept:  [41646.00802644]\n"
                }
            ],
            "source": "# fit the model\n\nclf = linear_model.LinearRegression()\ntrain_y_ = clf.fit(train_x_poly, train_y)\n# The coefficients\nprint ('Coefficients: ', clf.coef_)\nprint ('Intercept: ',clf.intercept_)"
        },
        {
            "cell_type": "code",
            "execution_count": 119,
            "metadata": {
                "scrolled": true
            },
            "outputs": [
                {
                    "data": {
                        "text/plain": "Text(0, 0.5, 'IncomeCapita')"
                    },
                    "execution_count": 119,
                    "metadata": {},
                    "output_type": "execute_result"
                },
                {
                    "data": {
                        "image/png": "[encoded data removed]",
                        "text/plain": "<Figure size 432x288 with 1 Axes>"
                    },
                    "metadata": {
                        "needs_background": "light"
                    },
                    "output_type": "display_data"
                }
            ],
            "source": "# plot the model to assess visually\n\nplt.scatter(train.CoffeeShop, train.IncomeCapita,  color='blue')\nXX = np.arange(0.0, 10.0, 0.1)\nyy = clf.intercept_[0]+ clf.coef_[0][1]*XX+ clf.coef_[0][2]*np.power(XX, 2)\nplt.plot(XX, yy, '-r' )\nplt.xlabel(\"CoffeeShop\")\nplt.ylabel(\"IncomeCapita\")"
        },
        {
            "cell_type": "markdown",
            "metadata": {},
            "source": "### The model is fitted but it is not a good predictor:"
        },
        {
            "cell_type": "code",
            "execution_count": 124,
            "metadata": {},
            "outputs": [
                {
                    "name": "stdout",
                    "output_type": "stream",
                    "text": "Mean absolute error: 6186.92\nResidual sum of squares (MSE): 47642128.71\nR2-score: -2.98\n"
                }
            ],
            "source": "from sklearn.metrics import r2_score\n\ntest_x_poly = poly.fit_transform(test_x)\ntest_y_ = clf.predict(test_x_poly)\n\nprint(\"Mean absolute error: %.2f\" % np.mean(np.absolute(test_y_ - test_y)))\nprint(\"Residual sum of squares (MSE): %.2f\" % np.mean((test_y_ - test_y) ** 2))\nprint(\"R2-score: %.2f\" % r2_score(test_y,test_y_ ) )\n"
        },
        {
            "cell_type": "markdown",
            "metadata": {},
            "source": "### The model is not a good fit - the r squared score is negative - there is no relationship"
        },
        {
            "cell_type": "markdown",
            "metadata": {},
            "source": "# Results "
        },
        {
            "cell_type": "markdown",
            "metadata": {},
            "source": "Both models are quite terrible predictors of per capita income.\n\nThe model predicts income decreases as pizza places increase. Pizza places only explain 9% of the variance in capita income.\n\nThe model has fitted to coffee shops but the R Squared is negative, meaning there is no correllation.\n\nThere are not enough data points on gyms and wine bars to perform the analysis.\n"
        },
        {
            "cell_type": "markdown",
            "metadata": {},
            "source": "# Discussion "
        },
        {
            "cell_type": "markdown",
            "metadata": {},
            "source": "We have fitted one model with some skill, which predicts lower number of pizza places gives higer capita income.\n\nOf course correllation does not imply causation!\n\nThe analysis is very limited by the 100 limit on the foursquare API, which does not give enough results for each venue type to build a good model.\n\nRecommend ABC company to pay for the developer level API so that they can get better results :)"
        },
        {
            "cell_type": "markdown",
            "metadata": {},
            "source": "# Conclusion "
        },
        {
            "cell_type": "markdown",
            "metadata": {},
            "source": "ABC Company should open their US office in Washington, DC, as it has 0 pizza places.\n\nGood luck!"
        },
        {
            "cell_type": "code",
            "execution_count": null,
            "metadata": {},
            "outputs": [],
            "source": ""
        }
    ],
    "metadata": {
        "kernelspec": {
            "display_name": "Python 3.7",
            "language": "python",
            "name": "python3"
        },
        "language_info": {
            "codemirror_mode": {
                "name": "ipython",
                "version": 3
            },
            "file_extension": ".py",
            "mimetype": "text/x-python",
            "name": "python",
            "nbconvert_exporter": "python",
            "pygments_lexer": "ipython3",
            "version": "3.7.10"
        }
    },
    "nbformat": 4,
    "nbformat_minor": 1
}